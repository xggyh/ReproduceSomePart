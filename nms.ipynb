{
 "cells": [
  {
   "cell_type": "code",
   "execution_count": 4,
   "metadata": {},
   "outputs": [],
   "source": [
    "import numpy as np"
   ]
  },
  {
   "cell_type": "code",
   "execution_count": 9,
   "metadata": {},
   "outputs": [],
   "source": [
    "def NMS(det, thresh):\n",
    "    '''\n",
    "    det [x1, y1, x2, y2, score], float thresh(0< thresh< 1)\n",
    "    the (x1,y1),(x2,y2) represent (left,up) and (right, down),\n",
    "    '''\n",
    "    x1 = det[ : , 0]\n",
    "    y1 = det[ : , 1]\n",
    "    x2 = det[ : , 2]\n",
    "    y2 = det[ : , 3]\n",
    "    area = (x2-x1+1) * (y2-y1+1)\n",
    "    score = det[ : , 4]\n",
    "    res = [ ]\n",
    "    # choose the highest score index\n",
    "    order = score.argsort()[::-1]\n",
    "    while order.size>0:\n",
    "        res.append(order[0])\n",
    "        # find iou limitation\n",
    "        X1 = np.maximum(x1[order[0]], x1[order[1:]])\n",
    "        Y1 = np.maximum(y1[order[0]], y1[order[1:]])\n",
    "        X2 = np.minimum(x2[order[0]], x2[order[1:]])\n",
    "        Y2 = np.minimum(y2[order[0]], y2[order[1:]])\n",
    "        # find the width and height of intersection\n",
    "        width = np.maximum(0.0, X2-X1)\n",
    "        height = np.maximum(0.0, Y2-Y1)\n",
    "        \n",
    "        area1 = width * height\n",
    "        iou = area1 / (area[order[0]]+area[order[1:]]-area1+1e-8)\n",
    "        # retain the index where iou < thresh\n",
    "        idx = np.where(iou < thresh)[0]\n",
    "        \n",
    "        order = order[idx+1]\n",
    "        \n",
    "    return res"
   ]
  },
  {
   "cell_type": "code",
   "execution_count": 10,
   "metadata": {},
   "outputs": [
    {
     "name": "stdout",
     "output_type": "stream",
     "text": [
      "[1, 3, 0]\n",
      "[[ 20.   20.  240.  210.    1. ]\n",
      " [400.  280.  560.  360.    0.7]\n",
      " [310.   30.  420.    5.    0.6]]\n"
     ]
    }
   ],
   "source": [
    "dets = np.array([[310, 30, 420, 5, 0.6],\n",
    "                     [20, 20, 240, 210, 1],\n",
    "                     [70, 50, 260, 220, 0.8],\n",
    "                     [400, 280, 560, 360, 0.7]])\n",
    "thresh = 0.4\n",
    "keep_dets = NMS(dets, thresh)\n",
    "print(keep_dets)\n",
    "print(dets[keep_dets])"
   ]
  }
 ],
 "metadata": {
  "kernelspec": {
   "display_name": "Python 3",
   "language": "python",
   "name": "python3"
  },
  "language_info": {
   "codemirror_mode": {
    "name": "ipython",
    "version": 3
   },
   "file_extension": ".py",
   "mimetype": "text/x-python",
   "name": "python",
   "nbconvert_exporter": "python",
   "pygments_lexer": "ipython3",
   "version": "3.8.2"
  }
 },
 "nbformat": 4,
 "nbformat_minor": 4
}
