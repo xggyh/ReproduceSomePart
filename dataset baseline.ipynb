{
 "cells": [
  {
   "cell_type": "code",
   "execution_count": 2,
   "metadata": {},
   "outputs": [],
   "source": [
    "import torch\n",
    "import torch.nn as nn\n",
    "import torch.nn.functional as F\n",
    "\n",
    "from torch.utils.data import Dataset, DataLoader"
   ]
  },
  {
   "cell_type": "code",
   "execution_count": 3,
   "metadata": {},
   "outputs": [],
   "source": [
    "# we suppose that 1, image data in data root  2, label and image name in csv file 'image_id' 'label'\n",
    "# 3 we will use albumentations to do augmentation"
   ]
  },
  {
   "cell_type": "code",
   "execution_count": 4,
   "metadata": {},
   "outputs": [],
   "source": [
    "# create dataset and use index to find this image\n",
    "class Mydataset(Dataset):\n",
    "    \n",
    "    def __init__(self, df, data_root, transforms=None, out_label=True):\n",
    "        super.__init__()\n",
    "        self.root = self.data_root\n",
    "        self.transforms = transforms\n",
    "        self.out_label = out_label\n",
    "        # 删除原来索引，并建立新的索引，很像是copy操作\n",
    "        self.df = df.reset_index(drop=True).copy()\n",
    "        \n",
    "    \n",
    "    def __len__(self):\n",
    "        return self.df.shape[0]\n",
    "    \n",
    "    def __getitem__(self, index):\n",
    "        if self.out_label:\n",
    "            target = self.df.iloc[index]['label']\n",
    "        path = \"{}/{}\".format(self.data_root, self.df.iloc[index]['image_id'])\n",
    "        \n",
    "        img = cv2.imread(path)\n",
    "        img = img[:, :, ::-1]\n",
    "        # 这里可以选择不进行normlize，在albumentations里面有对应的库\n",
    "        \n",
    "        if self.transforms:\n",
    "            image = self.transforms(image=img)['image']\n",
    "            \n",
    "        if self.out_label:\n",
    "            return image, target\n",
    "        else:\n",
    "            return image\n",
    "            "
   ]
  },
  {
   "cell_type": "code",
   "execution_count": 5,
   "metadata": {},
   "outputs": [],
   "source": [
    "# from albumentation import (....)"
   ]
  },
  {
   "cell_type": "code",
   "execution_count": null,
   "metadata": {},
   "outputs": [],
   "source": [
    "# create dataloader(with batch size)\n",
    "train_data = DataLoader(Mydataset(...),\n",
    "                       batch_size=16,\n",
    "                       num_worker=4,\n",
    "                       shuffle=True,\n",
    "                       pin_memory=False)"
   ]
  }
 ],
 "metadata": {
  "kernelspec": {
   "display_name": "Python 3",
   "language": "python",
   "name": "python3"
  },
  "language_info": {
   "codemirror_mode": {
    "name": "ipython",
    "version": 3
   },
   "file_extension": ".py",
   "mimetype": "text/x-python",
   "name": "python",
   "nbconvert_exporter": "python",
   "pygments_lexer": "ipython3",
   "version": "3.8.2"
  }
 },
 "nbformat": 4,
 "nbformat_minor": 4
}
